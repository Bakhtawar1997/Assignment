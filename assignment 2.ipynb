{
 "cells": [
  {
   "cell_type": "code",
   "execution_count": null,
   "metadata": {},
   "outputs": [],
   "source": [
    "# QUESTION NO 1\n",
    "computer = int(input(\"Enter marks of Computer\"))\n",
    "urdu = int(input(\"Enter marks of urdu\"))\n",
    "pak_studies = int(input(\"Enter Marks of pak_studies\"))\n",
    "math = int(input(\"Enter Marks of math\"))\n",
    "english = int(input(\"Enter marks of english\"))\n",
    "\n",
    "marks_obtained= computer+urdu+pak_studies+math+english\n",
    "total_marks = 500\n",
    "percentage = int(marks_obtained / total_marks*100)\n",
    "print(percentage)\n",
    "\n",
    "if percentage >=90 and percentage <=100:\n",
    "    print(\"Your Grade is A+\")\n",
    "elif percentage >=80 and percentage <=90:\n",
    "    print(\"Your Grade is A\")\n",
    "elif percentage >=70 and percentage <=80:\n",
    "    print(\"Your Grade is B\")\n",
    "elif percentage >=60 and percentage <=70:\n",
    "    print(\"Your Grade is C\")\n",
    "elif percentage >=50 and percentage <=60:\n",
    "    print (\"Your Grade is D\")\n",
    "elif percentage >=40 and percentage <=50:\n",
    "    print(\"Your Grade is F\")\n",
    "elif percentage >=0 and percentage <=40:\n",
    "    print(\"You Fail\")\n",
    "else:\n",
    "    print (\"You Enter Invalid Percentage\")"
   ]
  },
  {
   "cell_type": "code",
   "execution_count": null,
   "metadata": {},
   "outputs": [],
   "source": [
    "num = int(input(\"Enter A Number\"))\n",
    "if num%2 == 0:\n",
    "    print(\"You Enter an Even Number\")\n",
    "else:\n",
    "    print(\"You Enter an Odd number\")"
   ]
  },
  {
   "cell_type": "code",
   "execution_count": 1,
   "metadata": {},
   "outputs": [
    {
     "name": "stdout",
     "output_type": "stream",
     "text": [
      "The Lenght of the List is 11\n"
     ]
    }
   ],
   "source": [
    "arr = [2, 4, 5, 67, 89, 4, 7, 8, 9, 2, 55]\n",
    "print(\"The Lenght of the List is \"+str(len(arr)))"
   ]
  },
  {
   "cell_type": "code",
   "execution_count": 2,
   "metadata": {},
   "outputs": [
    {
     "name": "stdout",
     "output_type": "stream",
     "text": [
      "sum of List is 113\n"
     ]
    }
   ],
   "source": [
    "arr = [2, 66, 7, 5, 9, 5, 9, 2, 1, 1, 6]\n",
    "sum = 0\n",
    "for b in arr:\n",
    "    sum+= b\n",
    "print(\"sum of List is \"+str(sum))"
   ]
  },
  {
   "cell_type": "code",
   "execution_count": 3,
   "metadata": {},
   "outputs": [
    {
     "name": "stdout",
     "output_type": "stream",
     "text": [
      "Largest number from a numeric list is 88\n"
     ]
    }
   ],
   "source": [
    "arr = [3, 88, 7, 6, 5, 33, 11, 66, 70, 54, 65]\n",
    "print(\"Largest number from a numeric list is \" + str(max(arr)))"
   ]
  },
  {
   "cell_type": "raw",
   "metadata": {},
   "source": [
    "\n"
   ]
  },
  {
   "cell_type": "code",
   "execution_count": 1,
   "metadata": {},
   "outputs": [
    {
     "name": "stdout",
     "output_type": "stream",
     "text": [
      "1\n",
      "2\n",
      "1\n",
      "3\n",
      "5\n"
     ]
    }
   ],
   "source": [
    "arr = [1, 2, 1, 3, 5, 65, 44, 89,34]\n",
    "for b in arr:\n",
    "    if b <=5:\n",
    "        print(b)"
   ]
  },
  {
   "cell_type": "code",
   "execution_count": null,
   "metadata": {},
   "outputs": [],
   "source": []
  },
  {
   "cell_type": "code",
   "execution_count": null,
   "metadata": {},
   "outputs": [],
   "source": []
  }
 ],
 "metadata": {
  "kernelspec": {
   "display_name": "Python 3",
   "language": "python",
   "name": "python3"
  },
  "language_info": {
   "codemirror_mode": {
    "name": "ipython",
    "version": 3
   },
   "file_extension": ".py",
   "mimetype": "text/x-python",
   "name": "python",
   "nbconvert_exporter": "python",
   "pygments_lexer": "ipython3",
   "version": "3.7.4"
  }
 },
 "nbformat": 4,
 "nbformat_minor": 2
}
